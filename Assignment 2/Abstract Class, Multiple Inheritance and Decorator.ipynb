{
 "cells": [
  {
   "cell_type": "markdown",
   "id": "6ffe3c5c",
   "metadata": {},
   "source": [
    "# Abstract Class"
   ]
  },
  {
   "cell_type": "markdown",
   "id": "44de357b",
   "metadata": {},
   "source": [
    "An abstract class is used as a blueprint for other classes. \n",
    "\n",
    "An abstract class cannot be instantiated but you can create classes that inherit from it.\n",
    "\n",
    "An abstract method is a method without an implementation."
   ]
  },
  {
   "cell_type": "code",
   "execution_count": 1,
   "id": "6533dc71",
   "metadata": {},
   "outputs": [],
   "source": [
    "from abc import ABC, abstractmethod\n",
    "\n",
    "class Coin(ABC):\n",
    "    @abstractmethod\n",
    "    def price(self):\n",
    "        pass\n",
    "\n",
    "class Bitcoin(Coin):\n",
    "    # Overriding Abstract Method\n",
    "    def price(self):\n",
    "        print(\"Price is $20,871\")\n",
    "        \n",
    "class Ethereum(Coin):\n",
    "    # Overriding Abstract Method\n",
    "    def price(self):\n",
    "        print(\"Price is $1,157\")"
   ]
  },
  {
   "cell_type": "code",
   "execution_count": 2,
   "id": "cbec66f5",
   "metadata": {},
   "outputs": [
    {
     "ename": "TypeError",
     "evalue": "Can't instantiate abstract class Coin with abstract methods price",
     "output_type": "error",
     "traceback": [
      "\u001b[1;31m---------------------------------------------------------------------------\u001b[0m",
      "\u001b[1;31mTypeError\u001b[0m                                 Traceback (most recent call last)",
      "\u001b[1;32m<ipython-input-2-b6f2a7a26604>\u001b[0m in \u001b[0;36m<module>\u001b[1;34m\u001b[0m\n\u001b[1;32m----> 1\u001b[1;33m \u001b[0mC\u001b[0m \u001b[1;33m=\u001b[0m \u001b[0mCoin\u001b[0m\u001b[1;33m(\u001b[0m\u001b[1;33m)\u001b[0m \u001b[1;31m# Can't instantiate abstract class\u001b[0m\u001b[1;33m\u001b[0m\u001b[1;33m\u001b[0m\u001b[0m\n\u001b[0m",
      "\u001b[1;31mTypeError\u001b[0m: Can't instantiate abstract class Coin with abstract methods price"
     ]
    }
   ],
   "source": [
    "C = Coin() # Can't instantiate abstract class"
   ]
  },
  {
   "cell_type": "code",
   "execution_count": 3,
   "id": "a566d1c8",
   "metadata": {},
   "outputs": [
    {
     "name": "stdout",
     "output_type": "stream",
     "text": [
      "Price is $20,871\n"
     ]
    }
   ],
   "source": [
    "B = Bitcoin()\n",
    "B.price()"
   ]
  },
  {
   "cell_type": "code",
   "execution_count": 4,
   "id": "38a9578a",
   "metadata": {},
   "outputs": [
    {
     "name": "stdout",
     "output_type": "stream",
     "text": [
      "Price is $1,157\n"
     ]
    }
   ],
   "source": [
    "E = Ethereum()\n",
    "E.price()"
   ]
  },
  {
   "cell_type": "markdown",
   "id": "0de91100",
   "metadata": {},
   "source": [
    "# Multiple Inheritance"
   ]
  },
  {
   "cell_type": "markdown",
   "id": "7aac126a",
   "metadata": {},
   "source": [
    "When a class is derived from more than one parent class it is called as Multiple Inheritance."
   ]
  },
  {
   "cell_type": "code",
   "execution_count": 5,
   "id": "38087b1f",
   "metadata": {},
   "outputs": [],
   "source": [
    "class A:\n",
    "    def __init__(self,a):\n",
    "        self.a = a\n",
    "    def sum(self):\n",
    "        print(self.a + self.c)\n",
    "        \n",
    "class B:\n",
    "    def __init__(self,b):\n",
    "        self.b = b\n",
    "    def diff(self):\n",
    "        print(self.b - self.c)\n",
    "        \n",
    "# Multiple Inheritance\n",
    "class C(A,B):\n",
    "    def __init__(self,a,b,c):\n",
    "        self.c = c\n",
    "        A.__init__(self,a)\n",
    "        B.__init__(self,b)\n",
    "    def display(self):\n",
    "        print(\"a:\", self.a)\n",
    "        print(\"b:\", self.b)\n",
    "        print(\"c:\", self.c)"
   ]
  },
  {
   "cell_type": "code",
   "execution_count": 6,
   "id": "3525d2bb",
   "metadata": {},
   "outputs": [],
   "source": [
    "obj = C(8,9,10)"
   ]
  },
  {
   "cell_type": "code",
   "execution_count": 7,
   "id": "65b0a8e5",
   "metadata": {},
   "outputs": [
    {
     "name": "stdout",
     "output_type": "stream",
     "text": [
      "18\n"
     ]
    }
   ],
   "source": [
    "obj.sum()"
   ]
  },
  {
   "cell_type": "code",
   "execution_count": 8,
   "id": "363a64e1",
   "metadata": {},
   "outputs": [
    {
     "name": "stdout",
     "output_type": "stream",
     "text": [
      "-1\n"
     ]
    }
   ],
   "source": [
    "obj.diff()"
   ]
  },
  {
   "cell_type": "code",
   "execution_count": 9,
   "id": "a8ff5039",
   "metadata": {},
   "outputs": [
    {
     "name": "stdout",
     "output_type": "stream",
     "text": [
      "a: 8\n",
      "b: 9\n",
      "c: 10\n"
     ]
    }
   ],
   "source": [
    "obj.display()"
   ]
  },
  {
   "cell_type": "markdown",
   "id": "55e42f14",
   "metadata": {},
   "source": [
    "# Decorators"
   ]
  },
  {
   "cell_type": "markdown",
   "id": "561daa6e",
   "metadata": {},
   "source": [
    "With decorators you can change the behavior of a function without touching it's code. It allows us to wrap another function in order to extend the behaviour of the wrapped function without permanently modifying it."
   ]
  },
  {
   "cell_type": "code",
   "execution_count": 10,
   "id": "e46f40bb",
   "metadata": {},
   "outputs": [],
   "source": [
    "# decorator\n",
    "def some_function(func):\n",
    "    # wrapper function\n",
    "    def wrapper():\n",
    "        print(\"Hi, before func execution\")\n",
    "        # calling func\n",
    "        func()\n",
    "        print(\"Bye, after func execution\")\n",
    "    return wrapper\n",
    "\n",
    "# Using decorator\n",
    "@some_function\n",
    "def function_tobeused():\n",
    "    print(\"This is inside the function\")"
   ]
  },
  {
   "cell_type": "code",
   "execution_count": 11,
   "id": "38a3eb6a",
   "metadata": {},
   "outputs": [
    {
     "name": "stdout",
     "output_type": "stream",
     "text": [
      "Hi, before func execution\n",
      "This is inside the function\n",
      "Bye, after func execution\n"
     ]
    }
   ],
   "source": [
    "function_tobeused()"
   ]
  }
 ],
 "metadata": {
  "kernelspec": {
   "display_name": "Python 3",
   "language": "python",
   "name": "python3"
  },
  "language_info": {
   "codemirror_mode": {
    "name": "ipython",
    "version": 3
   },
   "file_extension": ".py",
   "mimetype": "text/x-python",
   "name": "python",
   "nbconvert_exporter": "python",
   "pygments_lexer": "ipython3",
   "version": "3.8.10"
  }
 },
 "nbformat": 4,
 "nbformat_minor": 5
}
